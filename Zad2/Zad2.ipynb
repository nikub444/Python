{
 "cells": [
  {
   "cell_type": "code",
   "execution_count": 2,
   "metadata": {},
   "outputs": [
    {
     "name": "stdout",
     "output_type": "stream",
     "text": [
      "[189 170 189 163 183 171 185 168 173 183 173 173 175 178 183 193 178 173\n",
      " 174 183 183 168 170 178 182 180 183 178 182 188 175 179 183 193 182 183\n",
      " 177 185 188 188 182 185]\n",
      "Mean height:  179.73809523809524\n",
      "Standard deviation:  6.931843442745892\n",
      "Minimum height:  163\n",
      "Maximum height:  193\n",
      "25th percentile:  174.25\n",
      "Median:  182.0\n",
      "75th percentile:  183.0\n"
     ]
    }
   ],
   "source": [
    "#Zad 1\n",
    "import pandas as pd\n",
    "import numpy as np\n",
    "\n",
    "data = pd.read_csv('president_heights.csv')\n",
    "heights = np.array(data['height(cm)'])\n",
    "#print(data)\n",
    "print(heights)\n",
    "\n",
    "print('Mean height: ',np.mean(heights))\n",
    "print('Standard deviation: ',np.std(heights))\n",
    "print('Minimum height: ',heights.min())\n",
    "print('Maximum height: ',heights.max())\n",
    "print('25th percentile: ',np.percentile(heights, 25))\n",
    "print('Median: ',np.median(heights))\n",
    "#print('Median: ',np.percentile(heights, 50))\n",
    "print('75th percentile: ',np.percentile(heights, 75))"
   ]
  },
  {
   "cell_type": "code",
   "execution_count": 14,
   "metadata": {},
   "outputs": [
    {
     "name": "stdout",
     "output_type": "stream",
     "text": [
      "[[  1   2  15 -59   9   3  75   6   7   1]\n",
      " [  0   5   0   4   6  16  44   7   1   1]\n",
      " [  7  14   3 -10   9  15  73   8   2   9]\n",
      " [  1   5  15 -54   5  15  35   8   6   4]\n",
      " [  0   8   5 -18   7  16  91   6   7   9]\n",
      " [  7  18  23 -90   4   8  31   0   1   7]\n",
      " [  2   8  20 -72   4   1  91   9   4   4]\n",
      " [  4  12  18 -65   6   9  76   4   9   9]\n",
      " [  7  15  13 -52   5   7  54   2   7   0]\n",
      " [  2   9  15 -56   6   1  98   4   8   4]]\n",
      "wartości własne [104.34960192 +0.j         -23.35660516+18.84992811j\n",
      " -23.35660516-18.84992811j  15.92989017 +0.j\n",
      "  -4.99456452 +0.j           0.35205717 +5.80125175j\n",
      "   0.35205717 -5.80125175j  -1.03383491 +0.j\n",
      "   3.87900166 +1.42651533j   3.87900166 -1.42651533j]\n",
      "wektory własne [[-0.29000475+0.j         -0.07545445+0.07743149j -0.07545445-0.07743149j\n",
      "  -0.03544485+0.j          0.42681634+0.j         -0.22172831-0.29869259j\n",
      "  -0.22172831+0.29869259j  0.41343726+0.j         -0.28670255+0.21891569j\n",
      "  -0.28670255-0.21891569j]\n",
      " [-0.24163153+0.j          0.41229621+0.09197324j  0.41229621-0.09197324j\n",
      "   0.45873475+0.j         -0.27056206+0.j         -0.01331344+0.1422557j\n",
      "  -0.01331344-0.1422557j  -0.31591047+0.j          0.41954481-0.10561864j\n",
      "   0.41954481+0.10561864j]\n",
      " [-0.41060573+0.j          0.37509638-0.00960818j  0.37509638+0.00960818j\n",
      "   0.64067986+0.j         -0.37967609+0.j         -0.60525232+0.j\n",
      "  -0.60525232-0.j          0.6457768 +0.j          0.63631555+0.j\n",
      "   0.63631555-0.j        ]\n",
      " [-0.18899971+0.j         -0.05624951+0.174848j   -0.05624951-0.174848j\n",
      "   0.25174536+0.j         -0.07625465+0.j         -0.14870016-0.00795735j\n",
      "  -0.14870016+0.00795735j  0.15206852+0.j          0.21373907+0.00228636j\n",
      "   0.21373907-0.00228636j]\n",
      " [-0.42862199+0.j          0.47707538+0.14580554j  0.47707538-0.14580554j\n",
      "   0.39445834+0.j         -0.69542141+0.j          0.07336021-0.43070469j\n",
      "   0.07336021+0.43070469j -0.25948775+0.j          0.20250102-0.00411374j\n",
      "   0.20250102+0.00411374j]\n",
      " [-0.14730562+0.j         -0.57352911+0.j         -0.57352911-0.j\n",
      "   0.10071325+0.j          0.30158403+0.j         -0.04758838+0.12911829j\n",
      "  -0.04758838-0.12911829j  0.21274791+0.j         -0.1503483 +0.03452906j\n",
      "  -0.1503483 -0.03452906j]\n",
      " [-0.34660607+0.j         -0.13987374+0.06837303j -0.13987374-0.06837303j\n",
      "  -0.04800705+0.j          0.06798106+0.j          0.00512204+0.04215641j\n",
      "   0.00512204-0.04215641j  0.05365357+0.j         -0.0534517 +0.00550802j\n",
      "  -0.0534517 -0.00550802j]\n",
      " [-0.34919853+0.j         -0.08414467+0.07749664j -0.08414467-0.07749664j\n",
      "   0.25925893+0.j         -0.10039982+0.j         -0.06761437-0.25584347j\n",
      "  -0.06761437+0.25584347j -0.38214447+0.j          0.29485109-0.01300678j\n",
      "   0.29485109+0.01300678j]\n",
      " [-0.2440048 +0.j         -0.13777908+0.00402196j -0.13777908-0.00402196j\n",
      "   0.27709282+0.j         -0.00524365+0.j          0.21866893+0.04463336j\n",
      "   0.21866893-0.04463336j -0.12045798+0.j          0.27558332+0.02285482j\n",
      "   0.27558332-0.02285482j]\n",
      " [-0.38231403+0.j         -0.00476199+0.03456836j -0.00476199-0.03456836j\n",
      "   0.04918165+0.j          0.07322815+0.j          0.1819345 -0.29687727j\n",
      "   0.1819345 +0.29687727j -0.11445044+0.j          0.02830199+0.00579727j\n",
      "   0.02830199-0.00579727j]]\n",
      "[[ 0.47461371  0.13269253 -0.24726695 -0.82965177  0.28250384 -0.17012825\n",
      "   0.58274426  0.83686705  0.4146721  -1.56942847]\n",
      " [-0.38032531 -0.11226789  0.23216372  0.58853747 -0.2508954   0.10174485\n",
      "  -0.40729564 -0.58325689 -0.2335154   1.11832726]\n",
      " [ 0.13559662  0.58950334 -0.24709855 -0.58789838 -0.30170699 -0.12721938\n",
      "   0.23740295  1.01003036 -0.02151387 -0.64590149]\n",
      " [ 0.01425207  0.14570726 -0.04557569 -0.12721972 -0.08945184 -0.03756624\n",
      "   0.03910376  0.23606066 -0.01436771 -0.11345749]\n",
      " [-0.09473246  0.01725249  0.19145597  0.32960274 -0.28626296  0.08348529\n",
      "  -0.37577603 -0.27295934 -0.25855803  0.74691827]\n",
      " [ 0.16387032  0.10075684 -0.15404907 -0.29794662  0.16916877 -0.02827782\n",
      "   0.20469921  0.28036265  0.15086178 -0.5882585 ]\n",
      " [ 0.04288003  0.02246462 -0.0366803  -0.09024915  0.04322146 -0.01047861\n",
      "   0.06167348  0.07009721  0.0367806  -0.14185925]\n",
      " [-0.26858433 -0.21167346  0.25168367  0.55607234 -0.16804333  0.01066975\n",
      "  -0.22435849 -0.52957038 -0.15757224  0.77302113]\n",
      " [-0.15583541 -0.13041404  0.0984558   0.3150966  -0.09916278 -0.04426337\n",
      "  -0.20832614 -0.18404388 -0.04309498  0.45794224]\n",
      " [-0.05970783 -0.11342903  0.09122544  0.11908074 -0.00311646  0.02370807\n",
      "  -0.07526552 -0.06924544 -0.10963836  0.16553689]]\n"
     ]
    }
   ],
   "source": [
    "#Zad 2\n",
    "\n",
    "data = np.array(pd.read_csv('Zadanie_2.csv',sep=\";\", header=None))\n",
    "print(data)\n",
    "\n",
    "# podpunkt - a\n",
    "w,v = np.linalg.eig(data)\n",
    "print(\"wartości własne\",w)\n",
    "print(\"wektory własne\",v)\n",
    "\n",
    "# podpunkt - b\n",
    "inverse = np.linalg.inv(data)\n",
    "print(inverse)"
   ]
  },
  {
   "cell_type": "code",
   "execution_count": 3,
   "metadata": {},
   "outputs": [
    {
     "data": {
      "text/plain": [
       "(365,)"
      ]
     },
     "execution_count": 3,
     "metadata": {},
     "output_type": "execute_result"
    }
   ],
   "source": [
    "# zadanie 3\n",
    "rainfall=pd.read_csv('Seattle2014.csv')['PRCP'].values\n",
    "inches=rainfall/254.0\n",
    "inches.shape"
   ]
  },
  {
   "cell_type": "code",
   "execution_count": 12,
   "metadata": {},
   "outputs": [
    {
     "ename": "SyntaxError",
     "evalue": "invalid syntax. Perhaps you forgot a comma? (1686962592.py, line 1)",
     "output_type": "error",
     "traceback": [
      "\u001b[1;36m  Cell \u001b[1;32mIn [12], line 1\u001b[1;36m\u001b[0m\n\u001b[1;33m    conda install matplotlib\u001b[0m\n\u001b[1;37m          ^\u001b[0m\n\u001b[1;31mSyntaxError\u001b[0m\u001b[1;31m:\u001b[0m invalid syntax. Perhaps you forgot a comma?\n"
     ]
    }
   ],
   "source": [
    "import matplotlib.pyplot as plt\n",
    "import seaborn as sns\n",
    "\n",
    "%matplotlib inline \n",
    "sns.set()\n",
    "plt.hist(inches, 40)"
   ]
  },
  {
   "cell_type": "code",
   "execution_count": null,
   "metadata": {},
   "outputs": [],
   "source": [
    "# liczba dni kiedy nie padało\n",
    "print(\"Number days without rain: \", np.count_nonzero(inches == 0))"
   ]
  },
  {
   "cell_type": "code",
   "execution_count": null,
   "metadata": {},
   "outputs": [],
   "source": [
    "\n",
    "# liczba dni kiedy padało\n",
    "print(\"Number days with rain: \", np.count_nonzero(inches != 0))"
   ]
  },
  {
   "cell_type": "code",
   "execution_count": null,
   "metadata": {},
   "outputs": [],
   "source": [
    "# liczba dni kiedy padało powyżej 0.5\n",
    "print(\"Days with more than 0.5 inches:\", np.count_nonzero(inches > 0.5))"
   ]
  },
  {
   "cell_type": "code",
   "execution_count": null,
   "metadata": {},
   "outputs": [],
   "source": [
    "# liczba dni kiedy padało ponizej 0.2\n",
    "print(\"Rainy days with < 0.2 inches  :\", np.count_nonzero((inches > 0) & (inches < 0.2)))"
   ]
  },
  {
   "cell_type": "code",
   "execution_count": null,
   "metadata": {},
   "outputs": [],
   "source": [
    "# Medianę opadów w deszczowe dni w 2014 roku \n",
    "rainy = inches[inches > 0].copy()\n",
    "print(\"Median precip on rainy days in 2014 (inches): \", np.median(rainy))"
   ]
  },
  {
   "cell_type": "code",
   "execution_count": null,
   "metadata": {},
   "outputs": [],
   "source": [
    "summer_2014 = inches[171:262].copy() # z 262 dniem włącznie\n",
    "print(\"Median precip on summer days in 2014 (inches): \", np.median(summer_2014))"
   ]
  },
  {
   "cell_type": "code",
   "execution_count": null,
   "metadata": {},
   "outputs": [],
   "source": [
    "print(\"Maximum precip on summer days in 2014 (inches): \", np.max(summer_2014))"
   ]
  },
  {
   "cell_type": "code",
   "execution_count": null,
   "metadata": {},
   "outputs": [],
   "source": [
    "inches[171:262] = -1.\n",
    "without_the_summer = inches[inches != -1].copy()\n",
    "print(\"Maximum precip on non-summer rainy days (inches):\", np.max(without_the_summer))"
   ]
  },
  {
   "cell_type": "code",
   "execution_count": null,
   "metadata": {},
   "outputs": [],
   "source": [
    "# zadanie 4\n",
    "A = np.array([0,3,2,5])\n",
    "B = np.array([0,3,1,4])"
   ]
  },
  {
   "cell_type": "code",
   "execution_count": null,
   "metadata": {},
   "outputs": [],
   "source": [
    "# Dodaj A i B \n",
    "np.add(A, B)"
   ]
  },
  {
   "cell_type": "code",
   "execution_count": null,
   "metadata": {},
   "outputs": [],
   "source": [
    "# Odejmij B od A \n",
    "np.subtract(A, B)"
   ]
  },
  {
   "cell_type": "code",
   "execution_count": null,
   "metadata": {},
   "outputs": [],
   "source": [
    "# Pomnóż wektor A przez skalar a=4\n",
    "np.multiply(A, 4)"
   ]
  },
  {
   "cell_type": "code",
   "execution_count": null,
   "metadata": {},
   "outputs": [],
   "source": [
    "# Oblicz iloczyn skalarny wektorów A i B\n",
    "np.dot(A, B)"
   ]
  },
  {
   "cell_type": "code",
   "execution_count": null,
   "metadata": {},
   "outputs": [],
   "source": [
    "# Znajdź długość wektora B \n",
    "B.size"
   ]
  }
 ],
 "metadata": {
  "kernelspec": {
   "display_name": "Python 3.10.0 64-bit",
   "language": "python",
   "name": "python3"
  },
  "language_info": {
   "codemirror_mode": {
    "name": "ipython",
    "version": 3
   },
   "file_extension": ".py",
   "mimetype": "text/x-python",
   "name": "python",
   "nbconvert_exporter": "python",
   "pygments_lexer": "ipython3",
   "version": "3.10.0"
  },
  "orig_nbformat": 4,
  "vscode": {
   "interpreter": {
    "hash": "52634da84371cba311ea128a5ea7cdc41ff074b781779e754b270ff9f8153cee"
   }
  }
 },
 "nbformat": 4,
 "nbformat_minor": 2
}
